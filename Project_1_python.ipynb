{
  "nbformat": 4,
  "nbformat_minor": 0,
  "metadata": {
    "colab": {
      "provenance": [],
      "authorship_tag": "ABX9TyO375JUA+Hrp6LXrXUOSojI",
      "include_colab_link": true
    },
    "kernelspec": {
      "name": "python3",
      "display_name": "Python 3"
    },
    "language_info": {
      "name": "python"
    }
  },
  "cells": [
    {
      "cell_type": "markdown",
      "metadata": {
        "id": "view-in-github",
        "colab_type": "text"
      },
      "source": [
        "<a href=\"https://colab.research.google.com/github/MISHTI100/Project-1/blob/main/Project_1_python.ipynb\" target=\"_parent\"><img src=\"https://colab.research.google.com/assets/colab-badge.svg\" alt=\"Open In Colab\"/></a>"
      ]
    },
    {
      "cell_type": "code",
      "execution_count": 1,
      "metadata": {
        "colab": {
          "base_uri": "https://localhost:8080/"
        },
        "id": "_eJLUD6ppYEp",
        "outputId": "7bde188e-07a0-4e28-d8f5-64bfcc3262e8"
      },
      "outputs": [
        {
          "output_type": "stream",
          "name": "stdout",
          "text": [
            "                            \n",
            "Who won the T20 cricket world cup 2024?\n",
            "A. USA\n",
            "B.INDIA\n",
            "C. PAKISTAN\n",
            "D. SRI LANKA\n",
            "Enter (A, B, C, D): B\n",
            "CORRECT!\n",
            "                            \n",
            "Who hit the most runs in the T20 World Cup 2024?\n",
            "A. Rohit Sharma\n",
            "B. Quinton de Kock\n",
            "C. Rahmanullah Gurbaz\n",
            "D. Travis Head\n",
            "Enter (A, B, C, D): B\n",
            "INCORRECT!\n",
            "C is the correct answer\n",
            "                            \n",
            "Which country co-hosted the T20 world cup along with United States?\n",
            "A. West Indies\n",
            "B. India\n",
            "C. Pakistan\n",
            "D. Bnagladesh\n",
            "Enter (A, B, C, D): D\n",
            "INCORRECT!\n",
            "A is the correct answer\n",
            "                            \n",
            "How many overs are bowled in each inning of a T20 cricket match?\n",
            "A. 10\n",
            "B. 50\n",
            "C. 20\n",
            "D. 25\n",
            "Enter (A, B, C, D): C\n",
            "CORRECT!\n",
            "                            \n",
            "What does T20 stand for?\n",
            "A. Twenty-twenty\n",
            "B. Ten-Ten\n",
            "C. Test 20\n",
            "D. Team 20\n",
            "Enter (A, B, C, D): A\n",
            "CORRECT!\n",
            "Your score is: 60.0%\n"
          ]
        }
      ],
      "source": [
        "#tuple\n",
        "questions = (\"Who won the T20 cricket world cup 2024?\",\"Who hit the most runs in the T20 World Cup 2024?\",\"Which country co-hosted the T20 world cup along with United States?\",\"How many overs are bowled in each inning of a T20 cricket match?\",\"What does T20 stand for?\")\n",
        "\n",
        "#2-D tuple\n",
        "options =((\"A. USA\", \"B.INDIA\", \"C. PAKISTAN\", \"D. SRI LANKA\"),\n",
        "(\"A. Rohit Sharma\" , \"B. Quinton de Kock\", \"C. Rahmanullah Gurbaz\", \"D. Travis Head\"),\n",
        "(\"A. West Indies\" , \"B. India\", \"C. Pakistan\" , \"D. Bnagladesh\"),\n",
        "(\"A. 10\", \"B. 50\", \"C. 20\" , \"D. 25\"),(\"A. Twenty-twenty\", \"B. Ten-Ten\", \"C. Test 20\", \"D. Team 20\"))\n",
        "\n",
        "answers = (\"B\",\"C\",\"A\",\"C\",\"A\")\n",
        "\n",
        "guesses = []\n",
        "score = 0\n",
        "question_num = 0\n",
        "\n",
        "for question in questions:\n",
        "    print(\"                            \")\n",
        "    print(question)\n",
        "    for option in options[question_num]:\n",
        "        print(option)\n",
        "\n",
        "    guess = input(\"Enter (A, B, C, D): \").upper()\n",
        "    guesses.append(guess)\n",
        "\n",
        "    if guess == answers[question_num]:\n",
        "        score += 1\n",
        "        print(\"CORRECT!\")\n",
        "    else:\n",
        "        print(\"INCORRECT!\")\n",
        "        print(f\"{answers[question_num]} is the correct answer\")\n",
        "    question_num += 1\n",
        "\n",
        "score = (score / len(questions) * 100)\n",
        "print(f\"Your score is: {score}%\")\n"
      ]
    }
  ]
}